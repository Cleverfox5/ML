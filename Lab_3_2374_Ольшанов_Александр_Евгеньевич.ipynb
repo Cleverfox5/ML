{
 "cells": [
  {
   "cell_type": "markdown",
   "id": "bb2e882b-2c23-43b7-a426-7d0c3182491a",
   "metadata": {},
   "source": [
    "# Лабараторая работа № 3"
   ]
  },
  {
   "cell_type": "markdown",
   "id": "9b439d09-72fd-4873-b7d2-c384863f4d15",
   "metadata": {},
   "source": [
    "## Напоминалка про что датасет(про машины)"
   ]
  },
  {
   "cell_type": "code",
   "execution_count": 12,
   "id": "b6c9f9ae-5c3b-4b06-ad4a-d1dd0f42256f",
   "metadata": {},
   "outputs": [
    {
     "name": "stdout",
     "output_type": "stream",
     "text": [
      "<class 'pandas.core.frame.DataFrame'>\n",
      "RangeIndex: 2059 entries, 0 to 2058\n",
      "Data columns (total 17 columns):\n",
      " #   Column              Non-Null Count  Dtype  \n",
      "---  ------              --------------  -----  \n",
      " 0   Make                2059 non-null   object \n",
      " 1   Model               2059 non-null   object \n",
      " 2   Price               2059 non-null   int64  \n",
      " 3   Year                2059 non-null   int64  \n",
      " 4   Kilometer           2059 non-null   int64  \n",
      " 5   Fuel Type           2059 non-null   object \n",
      " 6   Transmission        2059 non-null   object \n",
      " 7   Location            2059 non-null   object \n",
      " 8   Color               2059 non-null   object \n",
      " 9   Owner               2059 non-null   object \n",
      " 10  Seller Type         2059 non-null   object \n",
      " 11  Drivetrain          1923 non-null   object \n",
      " 12  Length              1995 non-null   float64\n",
      " 13  Width               1995 non-null   float64\n",
      " 14  Height              1995 non-null   float64\n",
      " 15  Seating Capacity    1995 non-null   float64\n",
      " 16  Fuel Tank Capacity  1946 non-null   float64\n",
      "dtypes: float64(5), int64(3), object(9)\n",
      "memory usage: 273.6+ KB\n"
     ]
    },
    {
     "data": {
      "text/html": [
       "<div>\n",
       "<style scoped>\n",
       "    .dataframe tbody tr th:only-of-type {\n",
       "        vertical-align: middle;\n",
       "    }\n",
       "\n",
       "    .dataframe tbody tr th {\n",
       "        vertical-align: top;\n",
       "    }\n",
       "\n",
       "    .dataframe thead th {\n",
       "        text-align: right;\n",
       "    }\n",
       "</style>\n",
       "<table border=\"1\" class=\"dataframe\">\n",
       "  <thead>\n",
       "    <tr style=\"text-align: right;\">\n",
       "      <th></th>\n",
       "      <th>Make</th>\n",
       "      <th>Model</th>\n",
       "      <th>Price</th>\n",
       "      <th>Year</th>\n",
       "      <th>Kilometer</th>\n",
       "      <th>Fuel Type</th>\n",
       "      <th>Transmission</th>\n",
       "      <th>Location</th>\n",
       "      <th>Color</th>\n",
       "      <th>Owner</th>\n",
       "      <th>Seller Type</th>\n",
       "      <th>Drivetrain</th>\n",
       "      <th>Length</th>\n",
       "      <th>Width</th>\n",
       "      <th>Height</th>\n",
       "      <th>Seating Capacity</th>\n",
       "      <th>Fuel Tank Capacity</th>\n",
       "    </tr>\n",
       "  </thead>\n",
       "  <tbody>\n",
       "    <tr>\n",
       "      <th>0</th>\n",
       "      <td>Honda</td>\n",
       "      <td>Amaze 1.2 VX i-VTEC</td>\n",
       "      <td>505000</td>\n",
       "      <td>2017</td>\n",
       "      <td>87150</td>\n",
       "      <td>Petrol</td>\n",
       "      <td>Manual</td>\n",
       "      <td>Pune</td>\n",
       "      <td>Grey</td>\n",
       "      <td>First</td>\n",
       "      <td>Corporate</td>\n",
       "      <td>FWD</td>\n",
       "      <td>3990.0</td>\n",
       "      <td>1680.0</td>\n",
       "      <td>1505.0</td>\n",
       "      <td>5.0</td>\n",
       "      <td>35.0</td>\n",
       "    </tr>\n",
       "    <tr>\n",
       "      <th>1</th>\n",
       "      <td>Maruti Suzuki</td>\n",
       "      <td>Swift DZire VDI</td>\n",
       "      <td>450000</td>\n",
       "      <td>2014</td>\n",
       "      <td>75000</td>\n",
       "      <td>Diesel</td>\n",
       "      <td>Manual</td>\n",
       "      <td>Ludhiana</td>\n",
       "      <td>White</td>\n",
       "      <td>Second</td>\n",
       "      <td>Individual</td>\n",
       "      <td>FWD</td>\n",
       "      <td>3995.0</td>\n",
       "      <td>1695.0</td>\n",
       "      <td>1555.0</td>\n",
       "      <td>5.0</td>\n",
       "      <td>42.0</td>\n",
       "    </tr>\n",
       "    <tr>\n",
       "      <th>2</th>\n",
       "      <td>Hyundai</td>\n",
       "      <td>i10 Magna 1.2 Kappa2</td>\n",
       "      <td>220000</td>\n",
       "      <td>2011</td>\n",
       "      <td>67000</td>\n",
       "      <td>Petrol</td>\n",
       "      <td>Manual</td>\n",
       "      <td>Lucknow</td>\n",
       "      <td>Maroon</td>\n",
       "      <td>First</td>\n",
       "      <td>Individual</td>\n",
       "      <td>FWD</td>\n",
       "      <td>3585.0</td>\n",
       "      <td>1595.0</td>\n",
       "      <td>1550.0</td>\n",
       "      <td>5.0</td>\n",
       "      <td>35.0</td>\n",
       "    </tr>\n",
       "    <tr>\n",
       "      <th>3</th>\n",
       "      <td>Toyota</td>\n",
       "      <td>Glanza G</td>\n",
       "      <td>799000</td>\n",
       "      <td>2019</td>\n",
       "      <td>37500</td>\n",
       "      <td>Petrol</td>\n",
       "      <td>Manual</td>\n",
       "      <td>Mangalore</td>\n",
       "      <td>Red</td>\n",
       "      <td>First</td>\n",
       "      <td>Individual</td>\n",
       "      <td>FWD</td>\n",
       "      <td>3995.0</td>\n",
       "      <td>1745.0</td>\n",
       "      <td>1510.0</td>\n",
       "      <td>5.0</td>\n",
       "      <td>37.0</td>\n",
       "    </tr>\n",
       "    <tr>\n",
       "      <th>4</th>\n",
       "      <td>Toyota</td>\n",
       "      <td>Innova 2.4 VX 7 STR [2016-2020]</td>\n",
       "      <td>1950000</td>\n",
       "      <td>2018</td>\n",
       "      <td>69000</td>\n",
       "      <td>Diesel</td>\n",
       "      <td>Manual</td>\n",
       "      <td>Mumbai</td>\n",
       "      <td>Grey</td>\n",
       "      <td>First</td>\n",
       "      <td>Individual</td>\n",
       "      <td>RWD</td>\n",
       "      <td>4735.0</td>\n",
       "      <td>1830.0</td>\n",
       "      <td>1795.0</td>\n",
       "      <td>7.0</td>\n",
       "      <td>55.0</td>\n",
       "    </tr>\n",
       "  </tbody>\n",
       "</table>\n",
       "</div>"
      ],
      "text/plain": [
       "            Make                            Model    Price  Year  Kilometer  \\\n",
       "0          Honda              Amaze 1.2 VX i-VTEC   505000  2017      87150   \n",
       "1  Maruti Suzuki                  Swift DZire VDI   450000  2014      75000   \n",
       "2        Hyundai             i10 Magna 1.2 Kappa2   220000  2011      67000   \n",
       "3         Toyota                         Glanza G   799000  2019      37500   \n",
       "4         Toyota  Innova 2.4 VX 7 STR [2016-2020]  1950000  2018      69000   \n",
       "\n",
       "  Fuel Type Transmission   Location   Color   Owner Seller Type Drivetrain  \\\n",
       "0    Petrol       Manual       Pune    Grey   First   Corporate        FWD   \n",
       "1    Diesel       Manual   Ludhiana   White  Second  Individual        FWD   \n",
       "2    Petrol       Manual    Lucknow  Maroon   First  Individual        FWD   \n",
       "3    Petrol       Manual  Mangalore     Red   First  Individual        FWD   \n",
       "4    Diesel       Manual     Mumbai    Grey   First  Individual        RWD   \n",
       "\n",
       "   Length   Width  Height  Seating Capacity  Fuel Tank Capacity  \n",
       "0  3990.0  1680.0  1505.0               5.0                35.0  \n",
       "1  3995.0  1695.0  1555.0               5.0                42.0  \n",
       "2  3585.0  1595.0  1550.0               5.0                35.0  \n",
       "3  3995.0  1745.0  1510.0               5.0                37.0  \n",
       "4  4735.0  1830.0  1795.0               7.0                55.0  "
      ]
     },
     "execution_count": 12,
     "metadata": {},
     "output_type": "execute_result"
    }
   ],
   "source": [
    "import pandas as pd\n",
    "import numpy as np\n",
    "import datetime as dt\n",
    "import seaborn as sns\n",
    "import matplotlib.pyplot as plt\n",
    "from sklearn.cluster import KMeans\n",
    "from sklearn.preprocessing import StandardScaler\n",
    "from sklearn.preprocessing import LabelEncoder\n",
    "%matplotlib inline\n",
    "sns.set_theme()\n",
    "df = pd.read_csv('car details v4.csv')\n",
    "df = df.drop(columns=['Unnamed: 0'])\n",
    "df.info()\n",
    "df.head()"
   ]
  },
  {
   "cell_type": "markdown",
   "id": "d0a48dbe-e314-47f9-ad26-117195c48660",
   "metadata": {},
   "source": [
    "## Подготовка датасета"
   ]
  },
  {
   "cell_type": "markdown",
   "id": "c5af43b1-99d4-432d-8d72-fa510628ec50",
   "metadata": {},
   "source": [
    "Какой атрибут выступит в роли целевого класса?\n",
    "Создадим ещё один атрибут, чтобы получить бинарную классификацию - 'Price Type' со значениями \"expensive\" and \"cheap\".\n",
    "Будем прогназировать по характеристикам (марка машины, год выпуска, тип двигателя) - дорогой автомобить или дешёвый."
   ]
  },
  {
   "cell_type": "markdown",
   "id": "ce63b1da-2310-4043-88a2-5a8f624bd4c1",
   "metadata": {},
   "source": [
    "Пусть Дорогой автомобить от дешёвого отличает граница 1 000 000 👀"
   ]
  },
  {
   "cell_type": "code",
   "execution_count": 13,
   "id": "d6d8285d-84e1-4967-b7a8-be879facd703",
   "metadata": {},
   "outputs": [],
   "source": [
    "def text_atribut_statistic(column, name, pd):\n",
    "    print(f'Атрибут: {name}')\n",
    "    statistic = column.value_counts(normalize=True) * 100\n",
    "    if (statistic.size > 3):\n",
    "        with_name = statistic.head(3)\n",
    "        other = pd.Series({'другие': 100 - with_name.sum()})\n",
    "        statistic = pd.concat([with_name, other])\n",
    "    result = statistic.round(2).astype(str) + '%'\n",
    "    print(result)"
   ]
  },
  {
   "cell_type": "code",
   "execution_count": 14,
   "id": "8f952aba-c95a-4503-b41c-f3a713932cd6",
   "metadata": {},
   "outputs": [
    {
     "name": "stdout",
     "output_type": "stream",
     "text": [
      "Атрибут: Тип цены\n",
      "Price Type\n",
      "cheap        56.73%\n",
      "expensive    43.27%\n",
      "Name: proportion, dtype: object\n"
     ]
    }
   ],
   "source": [
    "df['Price Type'] = np.where(df['Price'] >= 1000000, 'expensive', 'cheap')\n",
    "text_atribut_statistic(df['Price Type'], 'Тип цены', pd)"
   ]
  },
  {
   "cell_type": "markdown",
   "id": "1d6ba5ac-8c2f-4038-a35a-1fd9956c52be",
   "metadata": {},
   "source": [
    "### Подготовка"
   ]
  },
  {
   "cell_type": "code",
   "execution_count": 39,
   "id": "4c329da0-a477-406c-8644-edca1edbb73d",
   "metadata": {},
   "outputs": [],
   "source": [
    "from sklearn.model_selection import train_test_split\n",
    "\n",
    "#преобразуем данные к числовому виду ('Make', 'Fuel Type')\n",
    "label_encoder_make = LabelEncoder()\n",
    "df['Make'] = label_encoder_make.fit_transform(df['Make'])\n",
    "\n",
    "label_encoder_price = LabelEncoder()\n",
    "df['Fuel Type'] = label_encoder_price.fit_transform(df['Price Type'])\n",
    "\n",
    "#преобразование целевого класса\n",
    "label_encoder_price = LabelEncoder()\n",
    "train_labels = label_encoder_price.fit_transform(df['Price Type'])\n",
    "\n",
    "train_data = df[['Year', 'Make', 'Kilometer', 'Fuel Type']].values\n",
    "\n",
    "#разбиваем на данные для обучения модели и для теста 80:20\n",
    "data_train, data_test, labels_train, labels_test = train_test_split(train_data, train_labels, test_size=0.2, random_state=42)"
   ]
  },
  {
   "cell_type": "markdown",
   "id": "1422a36a-f471-4a14-bddb-301db15476dc",
   "metadata": {},
   "source": [
    "### Дерево решений"
   ]
  },
  {
   "cell_type": "code",
   "execution_count": 40,
   "id": "8977e4eb-be1c-4e6b-bfd8-3382eb8164f3",
   "metadata": {},
   "outputs": [],
   "source": [
    "from sklearn.tree import DecisionTreeClassifier\n",
    "\n",
    "#создание модели\n",
    "clf_tree = DecisionTreeClassifier(criterion=\"entropy\", max_depth=3, random_state=17)\n",
    "\n",
    "# обучение\n",
    "clf_tree.fit(data_train, labels_train)\n",
    "\n",
    "# Прогноз\n",
    "forecast_tree = clf_tree.predict(data_test)"
   ]
  },
  {
   "cell_type": "markdown",
   "id": "0f3f17c8-8f79-4d20-a4da-caa15d7c8e47",
   "metadata": {},
   "source": [
    "### kNN"
   ]
  },
  {
   "cell_type": "code",
   "execution_count": 41,
   "id": "08142479-b7ee-4a38-98d3-6a2f8cd1254a",
   "metadata": {},
   "outputs": [],
   "source": [
    "from sklearn.neighbors import KNeighborsClassifier\n",
    "\n",
    "#создание\n",
    "knn = KNeighborsClassifier(n_neighbors=5)\n",
    "\n",
    "#обучение\n",
    "knn.fit(data_train, labels_train)\n",
    "\n",
    "#прогнозирование\n",
    "forecast_knn = knn.predict(data_test)"
   ]
  },
  {
   "cell_type": "markdown",
   "id": "71fc15be-c16f-47e6-872d-a1698dd3f560",
   "metadata": {},
   "source": [
    "## Сравнить полученные результаты"
   ]
  },
  {
   "cell_type": "code",
   "execution_count": 71,
   "id": "17720bef-ddcb-40b5-aacd-7f677c01e394",
   "metadata": {},
   "outputs": [],
   "source": [
    "from sklearn.metrics import accuracy_score, classification_report, precision_score, recall_score, f1_score\n",
    "\n",
    "#дерево решений\n",
    "accuracy_tree = accuracy_score(labels_test, forecast_tree)\n",
    "precision_tree = precision_score(labels_test, forecast_tree, average='weighted')\n",
    "recall_tree = recall_score(labels_test, forecast_tree, average='weighted')\n",
    "f_measure_tree = f1_score(labels_test, forecast_tree, average='weighted')"
   ]
  },
  {
   "cell_type": "code",
   "execution_count": 72,
   "id": "7840e642-c145-4e0a-888d-392508773eb9",
   "metadata": {},
   "outputs": [],
   "source": [
    "#kNN\n",
    "accuracy_knn = accuracy_score(labels_test, forecast_knn)\n",
    "precision_knn = precision_score(labels_test, forecast_knn, average='weighted')\n",
    "recall_knn = recall_score(labels_test, forecast_knn, average='weighted')\n",
    "f_measure_knn = f1_score(labels_test, forecast_knn, average='weighted')"
   ]
  },
  {
   "cell_type": "code",
   "execution_count": 75,
   "id": "4f2f39c9-87e6-47bf-91fd-25f2cd9906af",
   "metadata": {},
   "outputs": [
    {
     "name": "stdout",
     "output_type": "stream",
     "text": [
      "Характеристики для Дерева решений\n",
      "Accuracy: 1.0\n",
      "Precision: 1.0\n",
      "Recall: 1.0\n",
      "F measure: 1.0\n",
      "Характеристики для Knn\n",
      "Accuracy: 0.6383495145631068\n",
      "Precision: 0.634455108114759\n",
      "Recall: 0.6383495145631068\n",
      "F measure: 0.624324396164955\n"
     ]
    }
   ],
   "source": [
    "print(\"Характеристики для Дерева решений\")\n",
    "print(f\"Accuracy: {accuracy_tree}\")\n",
    "print(f\"Precision: {precision_tree}\")\n",
    "print(f\"Recall: {recall_tree}\")\n",
    "print(f\"F measure: {f_measure_tree}\")\n",
    "\n",
    "print(\"Характеристики для Knn\")\n",
    "print(f\"Accuracy: {accuracy_knn}\")\n",
    "print(f\"Precision: {precision_knn}\")\n",
    "print(f\"Recall: {recall_knn}\")\n",
    "print(f\"F measure: {f_measure_knn}\")"
   ]
  },
  {
   "cell_type": "markdown",
   "id": "1670d581-74e5-4851-bd99-c45b676c117e",
   "metadata": {},
   "source": [
    "## Вывод"
   ]
  },
  {
   "cell_type": "markdown",
   "id": "385ef3ea-8670-4bee-8322-2905821bc7cd",
   "metadata": {},
   "source": [
    "Дерево решений показало себя идеально, оно однозначно прогнозировало тип цены машины в датасете. Доля правильных ответов, точность, полнота и баланс между Precision и Recall в kNN - гораздо ниже. Дело в том, что она чувствительна и хорошо работает на небольших датасетах. В то время, как специализация дерева решений - большие"
   ]
  }
 ],
 "metadata": {
  "kernelspec": {
   "display_name": "Python 3 (ipykernel)",
   "language": "python",
   "name": "python3"
  },
  "language_info": {
   "codemirror_mode": {
    "name": "ipython",
    "version": 3
   },
   "file_extension": ".py",
   "mimetype": "text/x-python",
   "name": "python",
   "nbconvert_exporter": "python",
   "pygments_lexer": "ipython3",
   "version": "3.9.0"
  }
 },
 "nbformat": 4,
 "nbformat_minor": 5
}
